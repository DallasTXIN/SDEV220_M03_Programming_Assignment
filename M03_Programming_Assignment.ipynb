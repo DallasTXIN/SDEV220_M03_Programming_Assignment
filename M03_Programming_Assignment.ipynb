{
 "cells": [
  {
   "cell_type": "code",
   "execution_count": null,
   "id": "ceae684e",
   "metadata": {},
   "outputs": [],
   "source": [
    "#Dallas Lawson\n",
    "#M03 Programming Assignment\n",
    "\n",
    "#7.4\n",
    "#I think this is about as close as getting to printing these as possible.\n",
    "#If there's another way to do this, I know I'll update it and turn the assignment back in.\n",
    "things = [\"mozzarella\", \"cinderella\", \"salmonella\"]\n",
    "print(things)\n",
    "\n",
    "#7.5\n",
    "#For this one, I had to look it up to know what to do, and this is as close as I could get to capitalize Cinderella.\n",
    "lst = [x.capitalize() for x in things]\n",
    "print(lst)\n",
    "\n",
    "#7.6\n",
    "#I also had to look up how to do this one, but it was on the same website as 7.5, fortunately.\n",
    "cap = [x.upper() for x in things]\n",
    "print(cap)\n",
    "\n",
    "#7.7\n",
    "#This one I had to look up, and fortunately, it didn't take me too long to figure out what to do.\n",
    "things.remove(\"salmonella\")\n",
    "print(things)\n",
    "\n",
    "#9.1\n",
    "#For this one, I had to briefly look up what to do. This is a modified version of the one I saw.\n",
    "def good(potter1, potter2, potter3):\n",
    "  print(\"The Potter characters are: \" + potter1 + \", \" + potter2 + \", and \" + potter3 + \".\")\n",
    "good(potter1 = \"Harry\", potter2 = \"Ron\", potter3 = \"Hermione\")\n",
    "\n",
    "#9.2\n",
    "#This is another one I modified from one I saw.\n",
    "class get_odds:\n",
    "    def __init__(self, max):\n",
    "        self.n = 1\n",
    "        self.max = max\n",
    "    def __iter__(self):\n",
    "        return self\n",
    "    def __next__(self):\n",
    "        if self.n <= self.max:\n",
    "            result = self.n\n",
    "            self.n += 2\n",
    "            return result\n",
    "        else:\n",
    "            raise StopIteration\n",
    "numbers = get_odds(10)\n",
    "print(next(numbers))\n",
    "print(next(numbers))\n",
    "print(next(numbers))\n",
    "print(next(numbers))\n",
    "print(next(numbers))"
   ]
  }
 ],
 "metadata": {
  "kernelspec": {
   "display_name": "Python 3 (ipykernel)",
   "language": "python",
   "name": "python3"
  },
  "language_info": {
   "codemirror_mode": {
    "name": "ipython",
    "version": 3
   },
   "file_extension": ".py",
   "mimetype": "text/x-python",
   "name": "python",
   "nbconvert_exporter": "python",
   "pygments_lexer": "ipython3",
   "version": "3.9.13"
  }
 },
 "nbformat": 4,
 "nbformat_minor": 5
}
